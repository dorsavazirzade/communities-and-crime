{
 "cells": [
  {
   "metadata": {},
   "cell_type": "markdown",
   "source": [
    "# 2) Regression\n",
    "## 1. Prepare Dataset\n",
    "### 1.1 Import libraries"
   ],
   "id": "b3fccaf63aa7a927"
  },
  {
   "metadata": {},
   "cell_type": "code",
   "outputs": [],
   "execution_count": null,
   "source": [
    "import numpy as np\n",
    "import pandas as pd\n",
    "from sklearn.impute import SimpleImputer, KNNImputer\n",
    "from sklearn.model_selection import train_test_split\n",
    "from sklearn.linear_model import LinearRegression, Ridge, Lasso\n",
    "from sklearn.metrics import mean_squared_error\n",
    "import matplotlib.pyplot as plt"
   ],
   "id": "88db3a58d6be99df"
  },
  {
   "metadata": {},
   "cell_type": "markdown",
   "source": "### 1.2 Import Dataset",
   "id": "df6565c8635f0eed"
  },
  {
   "metadata": {},
   "cell_type": "code",
   "outputs": [],
   "execution_count": null,
   "source": [
    "from ucimlrepo import fetch_ucirepo\n",
    "\n",
    "# Fetch the dataset\n",
    "communities_and_crime = fetch_ucirepo(id=183)\n",
    "\n",
    "X = communities_and_crime.data.features\n",
    "y = communities_and_crime.data.targets"
   ],
   "id": "ea69eaef1da0d5dd"
  },
  {
   "metadata": {},
   "cell_type": "markdown",
   "source": [
    "### 1.3 Dataset Cleaning\n",
    "#### 1.3.1 Drop the non-numeric 'communityname' column\n"
   ],
   "id": "54c908e83069ce3a"
  },
  {
   "metadata": {},
   "cell_type": "code",
   "outputs": [],
   "execution_count": null,
   "source": "X = X.drop(columns=['communityname'])",
   "id": "8b09d3cefb9e50a9"
  },
  {
   "metadata": {},
   "cell_type": "markdown",
   "source": "#### 1.3.2 Replace non-numeric placeholders (e.g., '?') with NaN",
   "id": "f30f8e102121b6c"
  },
  {
   "metadata": {},
   "cell_type": "code",
   "outputs": [],
   "execution_count": null,
   "source": "X.replace('?', np.nan, inplace=True)\n",
   "id": "fdf9f512fe03c8a8"
  },
  {
   "metadata": {},
   "cell_type": "markdown",
   "source": "#### 1.3.3 Convert all columns to numeric where possible",
   "id": "70e5047bf80155cd"
  },
  {
   "metadata": {},
   "cell_type": "code",
   "outputs": [],
   "execution_count": null,
   "source": "X = X.apply(pd.to_numeric, errors='coerce')\n",
   "id": "2a07bcf6a9e6489e"
  },
  {
   "metadata": {},
   "cell_type": "markdown",
   "source": [
    "### 1.4 Imputation of missing values\n",
    "#### 1.4.1 Mean Imputation\n",
    "##### Missing values in the dataset are filled using the mean of each column. "
   ],
   "id": "74cca824c5ed40f"
  },
  {
   "metadata": {},
   "cell_type": "code",
   "outputs": [],
   "execution_count": null,
   "source": [
    "imputer_mean = SimpleImputer(missing_values=np.nan, strategy='mean')\n",
    "X_imputed_mean = pd.DataFrame(imputer_mean.fit_transform(X), columns=X.columns)\n"
   ],
   "id": "bf48b9dba5484178"
  },
  {
   "metadata": {},
   "cell_type": "markdown",
   "source": [
    "#### 1.4.2 KNN Imputation\n",
    "##### KNN imputation is used to fill missing values by considering the nearest neighbors. This method can provide a more accurate estimate than mean imputation by considering the relationships between variables."
   ],
   "id": "4b8e08d86e8f77a7"
  },
  {
   "metadata": {},
   "cell_type": "code",
   "outputs": [],
   "execution_count": null,
   "source": [
    "knn_imputer = KNNImputer(n_neighbors=5)\n",
    "X_imputed_knn = pd.DataFrame(knn_imputer.fit_transform(X), columns=X.columns)\n"
   ],
   "id": "985bed1e6c2a4b26"
  },
  {
   "metadata": {},
   "cell_type": "markdown",
   "source": "### 1.5 Save imputed datasets",
   "id": "9d10b4af164f934"
  },
  {
   "metadata": {},
   "cell_type": "code",
   "outputs": [],
   "execution_count": null,
   "source": [
    "X_imputed_mean.to_csv('CandC-imputed-mean.csv', index=False)\n",
    "X_imputed_knn.to_csv('CandC-imputed-knn.csv', index=False)\n",
    "print(\"Imputed datasets saved.\")"
   ],
   "id": "a5f8cd1d7d989c79"
  },
  {
   "metadata": {},
   "cell_type": "markdown",
   "source": [
    "## 2. Regression Models and Cross-Validation\n",
    "### 2.1 Function to Evaluate Model Performance\n",
    "##### This function evaluates the performance of a regression model using 5 different 80-20 train-test splits. It calculates the Mean Squared Error (MSE) for each split, saves the train-test data and target splits, and returns the average MSE and model parameters."
   ],
   "id": "8f482167bd1f9307"
  },
  {
   "metadata": {},
   "cell_type": "code",
   "outputs": [],
   "execution_count": null,
   "source": [
    "# Function to perform 5 different 80-20 splits, calculate MSE, and save parameters\n",
    "\n",
    "def evaluate_model(model, X, y, model_name, imputation_method):\n",
    "    mse_scores = []\n",
    "    parameters = []\n",
    "\n",
    "    for i in range(5):\n",
    "        # Split data\n",
    "        X_train, X_test, y_train, y_test = train_test_split(X, y, test_size=0.2, random_state=i)\n",
    "\n",
    "        # Fit model\n",
    "        model.fit(X_train, y_train)\n",
    "        y_pred = model.predict(X_test)\n",
    "\n",
    "        # Calculate MSE and save parameters\n",
    "        mse = mean_squared_error(y_test, y_pred)\n",
    "        mse_scores.append(mse)\n",
    "        parameters.append(model.coef_)\n",
    "\n",
    "        # Save train-test splits\n",
    "        X_train.to_csv(f'CandC-train-{imputation_method}-{i + 1}.csv', index=False)\n",
    "        X_test.to_csv(f'CandC-test-{imputation_method}-{i + 1}.csv', index=False)\n",
    "        pd.DataFrame(y_train).to_csv(f'CandC-train-targets-{imputation_method}-{i + 1}.csv', index=False)\n",
    "        pd.DataFrame(y_test).to_csv(f'CandC-test-targets-{imputation_method}-{i + 1}.csv', index=False)\n",
    "\n",
    "    avg_mse = np.mean(mse_scores)\n",
    "    print(f\"{model_name} with {imputation_method} 5-fold Cross-validation MSE: {mse_scores}\")\n",
    "    print(f\"Average MSE for {model_name} with {imputation_method}: {avg_mse}\")\n",
    "    return avg_mse, parameters\n"
   ],
   "id": "5d4c3f14c027ad54"
  },
  {
   "metadata": {},
   "cell_type": "markdown",
   "source": [
    "### 2.2 Linear Regression with Mean and KNN Imputed Data\n",
    "##### Linear regression is applied to both mean-imputed and KNN-imputed datasets. The function calculates the average MSE and saves the learned parameters."
   ],
   "id": "e64783305fee3d2f"
  },
  {
   "metadata": {},
   "cell_type": "code",
   "outputs": [],
   "execution_count": null,
   "source": [
    "# Linear Regression\n",
    "lin_reg = LinearRegression()\n",
    "avg_mse_mean, params_mean = evaluate_model(lin_reg, X_imputed_mean, y, \"Linear Regression\", \"mean\")\n",
    "avg_mse_knn, params_knn = evaluate_model(lin_reg, X_imputed_knn, y, \"Linear Regression\", \"knn\")\n"
   ],
   "id": "ac9b307264a766f5"
  },
  {
   "metadata": {},
   "cell_type": "markdown",
   "source": [
    "### 2.3 Ridge Regression with Multiple Lambda Values\n",
    "##### Ridge regression is evaluated for a range of lambda (𝜆λ) values. The average MSE is calculated for each 𝜆 and plotted to identify the best value for 𝜆."
   ],
   "id": "7dc113bd631d079e"
  },
  {
   "metadata": {},
   "cell_type": "code",
   "outputs": [],
   "execution_count": null,
   "source": [
    "# Ridge Regression with multiple lambda values\n",
    "lambdas = np.logspace(-4, 4, 10)\n",
    "ridge_mse_scores = []\n",
    "ridge_parameters = []\n",
    "\n",
    "for alpha in lambdas:\n",
    "    ridge = Ridge(alpha=alpha)\n",
    "    avg_mse, parameters = evaluate_model(ridge, X_imputed_knn, y, f\"Ridge Regression (λ={alpha})\", \"knn\")\n",
    "    ridge_mse_scores.append(avg_mse)\n",
    "    ridge_parameters.append(parameters)\n"
   ],
   "id": "6541a2c25bcf082f"
  },
  {
   "metadata": {},
   "cell_type": "markdown",
   "source": [
    "### 2.4 Plotting Ridge Regression Results\n",
    "##### A plot is created to visualize the relationship between the regularization parameter λ and the MSE, aiding in the selection of the best λ for Ridge Regression."
   ],
   "id": "913da5c06b307d78"
  },
  {
   "metadata": {},
   "cell_type": "code",
   "outputs": [],
   "execution_count": null,
   "source": [
    "\n",
    "# Plot Ridge Regression MSE vs Lambda\n",
    "plt.plot(lambdas, ridge_mse_scores, marker='o')\n",
    "plt.xscale('log')\n",
    "plt.xlabel('Lambda (α)')\n",
    "plt.ylabel('Average Test MSE')\n",
    "plt.title('Ridge Regression: MSE vs Lambda')\n",
    "plt.show()\n"
   ],
   "id": "14db15ac38c4911f"
  },
  {
   "metadata": {},
   "cell_type": "markdown",
   "source": [
    "### 2.5 Selecting the Best Lambda for Ridge Regression\n",
    "##### The best λ value is selected based on the minimum MSE observed in the Ridge Regression results."
   ],
   "id": "200c0e1e581742db"
  },
  {
   "metadata": {},
   "cell_type": "code",
   "outputs": [],
   "execution_count": null,
   "source": [
    "\n",
    "# Select best lambda for Ridge\n",
    "best_lambda_ridge = lambdas[np.argmin(ridge_mse_scores)]\n",
    "print(\"Best lambda for Ridge Regression:\", best_lambda_ridge)\n"
   ],
   "id": "df178a82ea785070"
  },
  {
   "metadata": {},
   "cell_type": "markdown",
   "source": [
    "### 2.6 Lasso Regression for Feature Selection\n",
    "#####  Lasso regression is used to perform feature selection, reducing the number of features based on the non-zero coefficients. The MSE of the Lasso model is also calculated and reported."
   ],
   "id": "ebeb031593f20d39"
  },
  {
   "metadata": {},
   "cell_type": "code",
   "outputs": [],
   "execution_count": null,
   "source": [
    "# Lasso Regression with best lambda for Lasso (separately determined)\n",
    "lasso = Lasso(alpha=best_lambda_ridge)  # Modify as necessary for the best lambda for Lasso\n",
    "lasso.fit(X_imputed_knn, y)\n",
    "y_pred_lasso = lasso.predict(X_imputed_knn)\n",
    "lasso_mse = mean_squared_error(y, y_pred_lasso)\n",
    "print(\"Lasso Regression Test MSE:\", lasso_mse)\n",
    "\n",
    "# Reporting number of selected features by Lasso\n",
    "selected_features = np.sum(lasso.coef_ != 0)\n",
    "print(f\"Number of selected features by Lasso: {selected_features}\")\n"
   ],
   "id": "609d3dfb2aedf4b7"
  },
  {
   "metadata": {},
   "cell_type": "markdown",
   "source": [
    "### 2.7 Linear Regression with Reduced Feature Set\n",
    "##### After feature selection via Lasso, a linear regression model is fitted using only the selected features. The performance is evaluated and compared to the full model."
   ],
   "id": "653ee0c75fc40504"
  },
  {
   "metadata": {},
   "cell_type": "code",
   "outputs": [],
   "execution_count": null,
   "source": [
    "# Refit Linear Regression model with selected features\n",
    "selected_columns = X_imputed_knn.columns[lasso.coef_ != 0]\n",
    "X_reduced = X_imputed_knn[selected_columns]\n",
    "lin_reg_reduced = LinearRegression()\n",
    "evaluate_model(lin_reg_reduced, X_reduced, y, \"Linear Regression with Reduced Features\", \"reduced\")\n"
   ],
   "id": "b1b72717943ef640"
  },
  {
   "metadata": {},
   "cell_type": "markdown",
   "source": [
    "### 2.8 Saving Parameters for Each Model\n",
    "##### The learned parameters for each model (Linear Regression with mean and KNN imputation, and Ridge Regression) are saved and printed for reference."
   ],
   "id": "f38e8bc1b6a54f7b"
  },
  {
   "metadata": {},
   "cell_type": "code",
   "outputs": [],
   "execution_count": null,
   "source": [
    "\n",
    "# Save parameters for each model\n",
    "print(\"Learned parameters for Linear Regression (Mean Imputed):\", params_mean)\n",
    "print(\"Learned parameters for Linear Regression (KNN Imputed):\", params_knn)\n",
    "print(\"Learned parameters for Ridge Regression:\", ridge_parameters)\n"
   ],
   "id": "3c33c2803cce6332"
  }
 ],
 "metadata": {
  "kernelspec": {
   "display_name": "Python 3",
   "language": "python",
   "name": "python3"
  },
  "language_info": {
   "codemirror_mode": {
    "name": "ipython",
    "version": 2
   },
   "file_extension": ".py",
   "mimetype": "text/x-python",
   "name": "python",
   "nbconvert_exporter": "python",
   "pygments_lexer": "ipython2",
   "version": "2.7.6"
  }
 },
 "nbformat": 4,
 "nbformat_minor": 5
}
